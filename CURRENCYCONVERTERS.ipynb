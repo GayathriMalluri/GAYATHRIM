{
  "nbformat": 4,
  "nbformat_minor": 0,
  "metadata": {
    "colab": {
      "provenance": [],
      "toc_visible": true,
      "authorship_tag": "ABX9TyP+en0SzrQaIm95MqGCzshl",
      "include_colab_link": true
    },
    "kernelspec": {
      "name": "python3",
      "display_name": "Python 3"
    },
    "language_info": {
      "name": "python"
    }
  },
  "cells": [
    {
      "cell_type": "markdown",
      "metadata": {
        "id": "view-in-github",
        "colab_type": "text"
      },
      "source": [
        "<a href=\"https://colab.research.google.com/github/GayathriMalluri/GAYATHRIM/blob/main/CURRENCYCONVERTERS.ipynb\" target=\"_parent\"><img src=\"https://colab.research.google.com/assets/colab-badge.svg\" alt=\"Open In Colab\"/></a>"
      ]
    },
    {
      "cell_type": "code",
      "source": [
        "import requests\n"
      ],
      "metadata": {
        "id": "IjJpf-tNvOpU"
      },
      "execution_count": null,
      "outputs": []
    },
    {
      "cell_type": "code",
      "source": [
        "# Function to fetch live exchange rates from an API\n",
        "def get_exchange_rates():\n",
        "    try:\n",
        "        # Using ExchangeRate-API (https://www.exchangerate-api.com/) for live exchange rates\n",
        "        url = 'https://api.exchangerate-api.com/v4/latest/USD'\n",
        "        response = requests.get(url)\n",
        "        data = response.json()\n",
        "        rates = data['rates']\n",
        "        return rates\n",
        "    except requests.exceptions.RequestException as e:\n",
        "        print(\"Error fetching exchange rates:\", e)\n",
        "        return None"
      ],
      "metadata": {
        "id": "BOdy6FpWvUXk"
      },
      "execution_count": null,
      "outputs": []
    },
    {
      "cell_type": "code",
      "source": [
        "def convert_currency(amount, source_currency, target_currency, rates):\n",
        "    if source_currency in rates and target_currency in rates:\n",
        "        source_rate = rates[source_currency]\n",
        "        target_rate = rates[target_currency]\n",
        "        converted_amount = amount / source_rate * target_rate\n",
        "        return converted_amount\n",
        "    else:\n",
        "        return None"
      ],
      "metadata": {
        "id": "oiL7SCK7vaxE"
      },
      "execution_count": null,
      "outputs": []
    },
    {
      "cell_type": "code",
      "source": [
        "# Function to display the result\n",
        "def display_result(amount, source_currency, target_currency, converted_amount):\n",
        "    print(f\"{amount} {source_currency} is equal to {converted_amount:.2f} {target_currency}\\n\")\n"
      ],
      "metadata": {
        "id": "V3hUcZMAvdeZ"
      },
      "execution_count": null,
      "outputs": []
    },
    {
      "cell_type": "code",
      "source": [
        "def main():\n",
        "    print(\"Welcome to the Currency Converter Program!\")\n",
        "\n",
        "    # Fetch exchange rates\n",
        "    rates = get_exchange_rates()\n",
        "    if rates is None:\n",
        "        return\n",
        "\n",
        "    while True:\n",
        "        print(\"Available currencies: USD, EUR, GBP, JPY, CAD, AUD\")\n",
        "        source_currency = input(\"Enter source currency: \").upper()\n",
        "        target_currency = input(\"Enter target currency: \").upper()\n",
        "\n",
        "        if source_currency == target_currency:\n",
        "            print(\"Source and target currencies cannot be the same.\\n\")\n",
        "            continue\n",
        "\n",
        "        if source_currency not in rates or target_currency not in rates:\n",
        "            print(\"Invalid currency selection. Please choose from the available currencies.\\n\")\n",
        "            continue\n",
        "\n",
        "        try:\n",
        "            amount = float(input(\"Enter the amount to convert: \"))\n",
        "        except ValueError:\n",
        "            print(\"Invalid input. Please enter a valid amount.\\n\")\n",
        "            continue\n",
        "\n",
        "        converted_amount = convert_currency(amount, source_currency, target_currency, rates)\n",
        "        if converted_amount is not None:\n",
        "            display_result(amount, source_currency, target_currency, converted_amount)\n",
        "        else:\n",
        "            print(\"Conversion failed. Please try again.\\n\")\n",
        "\n",
        "        choice = input(\"Do you want to perform another conversion? (yes/no): \").lower()\n",
        "        if choice != 'yes':\n",
        "            print(\"Thank you for using the Currency Converter Program. Goodbye!\")\n",
        "            break\n",
        "\n",
        "\n",
        "\n",
        "\n"
      ],
      "metadata": {
        "id": "oO3-cIRXvdor"
      },
      "execution_count": null,
      "outputs": []
    },
    {
      "cell_type": "code",
      "source": [
        "if __name__ == \"__main__\":\n",
        "    main()"
      ],
      "metadata": {
        "colab": {
          "base_uri": "https://localhost:8080/"
        },
        "id": "-BXpwDnYv6X4",
        "outputId": "46803750-06b5-452a-9d88-64b9f15af9d1"
      },
      "execution_count": null,
      "outputs": [
        {
          "output_type": "stream",
          "name": "stdout",
          "text": [
            "Welcome to the Currency Converter Program!\n",
            "Available currencies: USD, EUR, GBP, JPY, CAD, AUD\n",
            "Enter source currency: USD\n",
            "Enter target currency: EUR\n",
            "Enter the amount to convert: 20\n",
            "20.0 USD is equal to 18.46 EUR\n",
            "\n",
            "Do you want to perform another conversion? (yes/no): yes\n",
            "Available currencies: USD, EUR, GBP, JPY, CAD, AUD\n",
            "Enter source currency: CAD\n",
            "Enter target currency: USD\n",
            "Enter the amount to convert: 200\n",
            "200.0 CAD is equal to 145.99 USD\n",
            "\n",
            "Do you want to perform another conversion? (yes/no): no\n",
            "Thank you for using the Currency Converter Program. Goodbye!\n"
          ]
        }
      ]
    }
  ]
}